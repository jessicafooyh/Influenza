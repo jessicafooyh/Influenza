{
 "cells": [
  {
   "cell_type": "code",
   "execution_count": 1,
   "metadata": {},
   "outputs": [
    {
     "data": {
      "text/html": [
       "<script>requirejs.config({paths: { 'plotly': ['https://cdn.plot.ly/plotly-latest.min']},});if(!window.Plotly) {{require(['plotly'],function(plotly) {window.Plotly=plotly;});}}</script>"
      ],
      "text/vnd.plotly.v1+html": [
       "<script>requirejs.config({paths: { 'plotly': ['https://cdn.plot.ly/plotly-latest.min']},});if(!window.Plotly) {{require(['plotly'],function(plotly) {window.Plotly=plotly;});}}</script>"
      ]
     },
     "metadata": {},
     "output_type": "display_data"
    }
   ],
   "source": [
    "import pandas as pd\n",
    "import numpy as np\n",
    "from math import log2\n",
    "from scipy import sparse\n",
    "import markov_clustering as mc\n",
    "import feather\n",
    "\n",
    "# import igraph as ig\n",
    "import networkx as nx\n",
    "\n",
    "import plotly as py\n",
    "from plotly.graph_objs import *\n",
    "\n",
    "py.offline.init_notebook_mode(connected=True)"
   ]
  },
  {
   "cell_type": "code",
   "execution_count": 2,
   "metadata": {
    "collapsed": true
   },
   "outputs": [],
   "source": [
    "co_occurenceMat = feather.read_dataframe('E:/Skill List Building/co_occurrenceMat.feather')\n",
    "# co_occurenceMat = feather.read_dataframe('/run/media/boonteck/FAEF-9B11/Skill List Building/co_occurrenceMat.feather')\n",
    "co_occurenceMat = co_occurenceMat.set_index(co_occurenceMat.columns)"
   ]
  },
  {
   "cell_type": "code",
   "execution_count": 119,
   "metadata": {
    "collapsed": true
   },
   "outputs": [],
   "source": [
    "# Normalize each element by row and column sum\n",
    "# greater proportion -> smaller distance (closer to 0), so take 1 - (a / (row sum + col sum - 3*a))\n",
    "# somehow pandas df screws up at some parts of the matrix, converting into np array and calculating there instead\n",
    "co_occur_np = co_occurenceMat.values\n",
    "neg_log = np.vectorize(lambda x: -1*log2(x) if ((x > 0) and ~(np.isinf(x))) else 0, otypes = [float]) # lower match, higher weight\n",
    "dir_conv = np.vectorize(lambda x: 1-x if ((x > 0) and ~(np.isinf(x))) else 0, otypes = [float]) # takes dist = 1 - similarity\n",
    "\n",
    "undirected = pd.DataFrame(\n",
    "        co_occur_np / (\n",
    "            co_occur_np.sum(axis = 1, keepdims = True) + \n",
    "            co_occur_np.sum(axis = 0, keepdims = True) -\n",
    "            co_occur_np\n",
    "    ), \n",
    "    index = co_occurenceMat.index, \n",
    "    columns = co_occurenceMat.index\n",
    ")\n",
    "\n",
    "out_directed = pd.DataFrame(\n",
    "        co_occur_np / (\n",
    "            co_occur_np.sum(axis = 1, keepdims = True)\n",
    "        )\n",
    "    , \n",
    "    index = co_occurenceMat.index, \n",
    "    columns = co_occurenceMat.index\n",
    ")"
   ]
  },
  {
   "cell_type": "code",
   "execution_count": 266,
   "metadata": {
    "collapsed": true
   },
   "outputs": [],
   "source": [
    "# Markov Clustering Algorithm on undirected net\n",
    "# set inflation level range (1,2]\n",
    "# lower inflation -> finer clusters\n",
    "\n",
    "result = mc.run_mcl(sparse.csr_matrix(undirected.values), inflation = 1.11)\n",
    "\n",
    "clust_num = 0\n",
    "clust_match = list()\n",
    "for cluster in mc.get_clusters(result):\n",
    "    [clust_match.append((skill,clust_num)) for skill in cluster]\n",
    "    clust_num = clust_num + 1\n",
    "\n",
    "clusters = pd.DataFrame(clust_match, columns = ['index', 'cluster'])\n",
    "clusters['skill'] = clusters['index'].apply(lambda x: undirected.index[x])"
   ]
  },
  {
   "cell_type": "code",
   "execution_count": 247,
   "metadata": {
    "collapsed": true,
    "scrolled": true
   },
   "outputs": [],
   "source": [
    "# The most generic skills are packed in a cluster\n",
    "# Current gen / tech split uses entropy across job industries & hub score, but this could be a viable alternative as well\n",
    "generic = clusters[clusters.cluster == clusters.loc[clusters.skill == 'Teamwork', 'cluster'].tolist()[0]]"
   ]
  },
  {
   "cell_type": "code",
   "execution_count": 330,
   "metadata": {
    "collapsed": true
   },
   "outputs": [],
   "source": [
    "#\n",
    "observe_skill = ['Adobe Photoshop']\n",
    "\n",
    "\n",
    "skill_net = undirected.replace(\n",
    "    to_replace = 0, \n",
    "    value = np.nan\n",
    ").stack().reset_index().rename(\n",
    "    columns = {'level_0' : 'source','level_1' : 'target', 0: 'weight'}\n",
    ")\n",
    "\n",
    "skill_net.weight = skill_net.weight.apply(neg_log)\n",
    "\n",
    "subset_skills = clusters.loc[\n",
    "    clusters.cluster.isin(clusters.loc[\n",
    "        clusters.skill.isin(observe_skill),'cluster'\n",
    "    ].tolist()),'skill'\n",
    "].tolist()\n",
    "\n",
    "skill_net = skill_net[(skill_net.source.isin(subset_skills)) & (skill_net.target.isin(subset_skills))].copy()\n",
    "skill_net.reset_index(drop = True, inplace = True)\n",
    "\n",
    "cluster_subset = clusters[clusters.skill.isin(subset_skills)].reset_index(drop = True)\n",
    "\n",
    "skill_net['source_id'] = skill_net.source.apply(lambda x: cluster_subset.skill.tolist().index(x))\n",
    "skill_net['target_id'] = skill_net.target.apply(lambda x: cluster_subset.skill.tolist().index(x))"
   ]
  },
  {
   "cell_type": "code",
   "execution_count": 331,
   "metadata": {
    "collapsed": true
   },
   "outputs": [],
   "source": [
    "data = dict()\n",
    "data['nodes'] = cluster_subset.sort_values('index')[['cluster','skill']].rename(\n",
    "    columns = {'cluster': 'group', 'skill' : 'name'}\n",
    "    ).to_dict(orient = 'records')\n",
    "\n",
    "data['links'] = skill_net[['source_id', 'target_id', 'weight']].rename(\n",
    "    columns = {'source_id' : 'source', 'target_id': 'target', 'weight' : 'value'}\n",
    "    ).to_dict(orient = 'records')\n",
    "\n",
    "L=len(data['links'])\n",
    "\n",
    "labels=[]\n",
    "group=[]\n",
    "for node in data['nodes']:\n",
    "    labels.append(node['name'])\n",
    "    group.append(node['group'])\n",
    "    \n",
    "N=len(data['nodes'])"
   ]
  },
  {
   "cell_type": "code",
   "execution_count": 334,
   "metadata": {
    "collapsed": true
   },
   "outputs": [],
   "source": [
    "G = nx.from_pandas_edgelist(skill_net, source = 'source_id', target = 'target_id',edge_attr = ['weight'])\n",
    "#                             ,create_using = nx.MultiDiGraph())\n",
    "                           \n",
    "G = nx.maximum_spanning_tree(G)\n",
    "# G = nx.algorithms.tree.branchings.Edmonds(G).find_optimum()\n",
    "\n",
    "layt = nx.spring_layout(G, dim = 3)\n",
    "# layt = nx.spectral_layout(G, dim = 3)\n",
    "\n",
    "\n",
    "Xn=[layt[k][0] for k in range(N)]# x-coordinates of nodes\n",
    "Yn=[layt[k][1] for k in range(N)]# y-coordinates\n",
    "Zn=[layt[k][2] for k in range(N)]# z-coordinates\n",
    "Xe=[]\n",
    "Ye=[]\n",
    "Ze=[]\n",
    "\n",
    "for e in list(G.edges):\n",
    "    Xe+=[layt[e[0]][0],layt[e[1]][0], None]# x-coordinates of edge ends\n",
    "    Ye+=[layt[e[0]][1],layt[e[1]][1], None]\n",
    "    Ze+=[layt[e[0]][2],layt[e[1]][2], None]\n",
    "\n",
    "trace1=Scatter3d(\n",
    "    x=Xe,\n",
    "    y=Ye,\n",
    "    z=Ze,\n",
    "    mode='lines',\n",
    "    line=Line(color='rgb(125,125,125)', width=1),\n",
    "    hoverinfo='none'\n",
    ")\n",
    "\n",
    "trace2=Scatter3d(\n",
    "    x=Xn,   \n",
    "    y=Yn,\n",
    "    z=Zn,\n",
    "    mode='markers+text',\n",
    "    name='actors',\n",
    "    marker=Marker(symbol='dot',\n",
    "                  size=6,\n",
    "                  color=group,\n",
    "                  colorscale='Viridis',\n",
    "                  line=Line(color='rgb(50,50,50)', width=0.5)\n",
    "                 ),\n",
    "    text=labels,\n",
    "    hoverinfo='text'\n",
    ")\n",
    "\n",
    "axis=dict(showbackground=False,\n",
    "          showline=False,\n",
    "          zeroline=False,\n",
    "          showgrid=False,\n",
    "          showticklabels=False,\n",
    "          title=''\n",
    "          )\n",
    "\n",
    "layout = Layout(\n",
    "         title=\"Network Cluster of Skill: \" + ' ,'.join(observe_skill),\n",
    "         width=1200,\n",
    "         height=900,\n",
    "         showlegend=False,\n",
    "         scene=Scene(\n",
    "         xaxis=XAxis(axis),\n",
    "         yaxis=YAxis(axis),\n",
    "         zaxis=ZAxis(axis),\n",
    "        ),\n",
    "     margin=Margin(\n",
    "        t=100\n",
    "    ),\n",
    "    hovermode='closest',\n",
    "    annotations=Annotations([\n",
    "           Annotation(\n",
    "           showarrow=False,\n",
    "            text=\"\",\n",
    "            xref='paper',\n",
    "            yref='paper',\n",
    "            x=0,\n",
    "            y=0.1,\n",
    "            xanchor='left',\n",
    "            yanchor='bottom',\n",
    "            font=Font(\n",
    "            size=14\n",
    "            )\n",
    "            )\n",
    "        ]),    )"
   ]
  },
  {
   "cell_type": "code",
   "execution_count": 335,
   "metadata": {},
   "outputs": [
    {
     "data": {
      "text/plain": [
       "'file://C:\\\\Users\\\\mtinternet\\\\Jobs Bank Skill Net\\\\Network Cluster Graph.html'"
      ]
     },
     "execution_count": 335,
     "metadata": {},
     "output_type": "execute_result"
    }
   ],
   "source": [
    "data=Data([trace1, trace2])\n",
    "fig=Figure(data=data, layout=layout)\n",
    "\n",
    "py.offline.plot(fig, filename='Network Cluster Graph.html')\n",
    "\n",
    "\n",
    "# py.offline.iplot(fig, filename='Network Cluster Graph')\n"
   ]
  }
 ],
 "metadata": {
  "anaconda-cloud": {},
  "kernelspec": {
   "display_name": "Python 3",
   "language": "python",
   "name": "python3"
  },
  "language_info": {
   "codemirror_mode": {
    "name": "ipython",
    "version": 3
   },
   "file_extension": ".py",
   "mimetype": "text/x-python",
   "name": "python",
   "nbconvert_exporter": "python",
   "pygments_lexer": "ipython3",
   "version": "3.6.5"
  }
 },
 "nbformat": 4,
 "nbformat_minor": 2
}
