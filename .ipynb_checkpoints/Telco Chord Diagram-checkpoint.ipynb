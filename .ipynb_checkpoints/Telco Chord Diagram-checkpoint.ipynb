{
 "cells": [
  {
   "cell_type": "code",
   "execution_count": 58,
   "metadata": {
    "collapsed": true
   },
   "outputs": [],
   "source": [
    "import pandas as pd\n",
    "from bokeh.charts import gridplot, output_file, Chord\n",
    "from bokeh.io import show\n",
    "from bokeh.sampledata.les_mis import data\n",
    "import numpy as np\n",
    "from gmplot import gmplot"
   ]
  },
  {
   "cell_type": "code",
   "execution_count": 2,
   "metadata": {
    "collapsed": true
   },
   "outputs": [],
   "source": [
    "dwelling = pd.read_csv(\"type of dwelling.csv\", index_col=1)\n",
    "dwelling.fillna(method=\"ffill\", axis=0, inplace=True)\n",
    "dwelling.replace(to_replace='-', value=np.nan, inplace=True)\n",
    "dwelling.loc[dwelling['Total HDB'].isnull() & dwelling['Condominiums and Other Apartments'].isnull() & dwelling['Landed \\rProperties'].isnull(),'Total'] = 0.00 \n",
    "dwelling['Total HDB'].fillna(0.0, inplace=True)\n",
    "dwelling['private_prop'] =  1 - (pd.to_numeric(dwelling['Total HDB'])/pd.to_numeric(dwelling['Total']))\n",
    "dwelling.index = dwelling.index.str.lower()"
   ]
  },
  {
   "cell_type": "code",
   "execution_count": 65,
   "metadata": {
    "collapsed": true
   },
   "outputs": [],
   "source": [
    "def get_group_prop(group_val):\n",
    "    group_prop = group_val / group_val.sum() \n",
    "    group_prop[group_prop < group_prop.quantile(0.9)] = 0.0\n",
    "    return (group_prop)"
   ]
  },
  {
   "cell_type": "code",
   "execution_count": 51,
   "metadata": {
    "collapsed": true
   },
   "outputs": [],
   "source": [
    "def chord_df(df): \n",
    "    telco = df.merge(dwelling[['Planning Area','Total']], how='left', left_on='pop_cell_subzone', right_index=True)\n",
    "    telco = telco.merge(dwelling[['Planning Area','Total']], how='left', left_on='other_cell_subzone', right_index=True)\n",
    "    telco.columns = ['source','target','value','source_planning','source_pop','target_planning','target_pop']\n",
    "    telco.dropna(inplace=True)\n",
    "    \n",
    "    combined = telco.groupby(['source_planning','target_planning'])['value'].mean().reset_index()\n",
    "    combined = combined.merge(dwelling.iloc[dwelling.index=='total'][['Planning Area','private_prop']], how='left', \n",
    "                          left_on='source_planning', right_on='Planning Area')\n",
    "    \n",
    "    proportions = pd.concat([combined.groupby(['source_planning']).apply(lambda x: get_group_prop(x['value'])).reset_index(level=0),combined.groupby(['source_planning']).apply(lambda x: x['target_planning']).reset_index(level=0)], axis=1).iloc[:,[0,1,3]]\n",
    "    proportions.rename(columns = {'value': 'value_prop'}, inplace=True)\n",
    "    \n",
    "    combined = combined.merge(proportions, how='left', on=['source_planning','target_planning'])\n",
    "    combined = combined[combined['source_planning']!=combined['target_planning']] # cannot be self-referencing\n",
    "    combined['value_prop'] = (combined['value_prop'] * 1000).astype(int)\n",
    "    combined.dropna(inplace=True)\n",
    "    combined.sort_values(['private_prop', 'source_planning'], inplace=True)\n",
    "    \n",
    "    return combined[combined['target_planning'].isin(combined['source_planning'].unique())]"
   ]
  },
  {
   "cell_type": "code",
   "execution_count": 66,
   "metadata": {},
   "outputs": [],
   "source": [
    "morn_weekend = Chord(chord_df(pd.DataFrame.from_csv(\"df_7am_to_10am_manhoursby_subzone_weekend.csv\", index_col=0)), source=\"source_planning\", target=\"target_planning\", value=\"value_prop\", title=\"7am - 10am (Weekend)\")\n",
    "morn_weekday = Chord(chord_df(pd.DataFrame.from_csv(\"df_7am_to_10am_manhoursby_subzone_weekday.csv\", index_col=0)), source=\"source_planning\", target=\"target_planning\", value=\"value_prop\", title=\"7am - 10am (Weekday)\")\n",
    "aftn_weekend = Chord(chord_df(pd.DataFrame.from_csv(\"df_10am_to_5pm_manhoursby_subzone_weekend.csv\", index_col=0)), source=\"source_planning\", target=\"target_planning\", value=\"value_prop\", title=\"10am - 5pm (Weekend)\")\n",
    "aftn_weekday = Chord(chord_df(pd.DataFrame.from_csv(\"df_10am_to_5pm_manhoursby_subzone_weekday.csv\", index_col=0)), source=\"source_planning\", target=\"target_planning\", value=\"value_prop\", title=\"10am - 5pm (Weekday)\")\n",
    "p = gridplot([[morn_weekend, morn_weekday], [aftn_weekend, aftn_weekday]])"
   ]
  },
  {
   "cell_type": "code",
   "execution_count": 67,
   "metadata": {},
   "outputs": [
    {
     "name": "stderr",
     "output_type": "stream",
     "text": [
      "INFO:bokeh.core.state:Session output file 'chord-diagram-bokeh.html' already exists, will be overwritten.\n"
     ]
    }
   ],
   "source": [
    "output_file('chord-diagram-bokeh.html', mode=\"inline\")\n",
    "show(p)"
   ]
  },
  {
   "cell_type": "code",
   "execution_count": 68,
   "metadata": {},
   "outputs": [],
   "source": [
    "gmap = gmplot.GoogleMapPlotter.from_geocode(\"Singapore\")"
   ]
  },
  {
   "cell_type": "code",
   "execution_count": 69,
   "metadata": {},
   "outputs": [],
   "source": [
    "gmap.draw(\"my_map.html\")"
   ]
  },
  {
   "cell_type": "code",
   "execution_count": null,
   "metadata": {
    "collapsed": true
   },
   "outputs": [],
   "source": []
  }
 ],
 "metadata": {
  "anaconda-cloud": {},
  "kernelspec": {
   "display_name": "Python 3",
   "language": "python",
   "name": "python3"
  },
  "language_info": {
   "codemirror_mode": {
    "name": "ipython",
    "version": 3
   },
   "file_extension": ".py",
   "mimetype": "text/x-python",
   "name": "python",
   "nbconvert_exporter": "python",
   "pygments_lexer": "ipython3",
   "version": "3.6.5"
  }
 },
 "nbformat": 4,
 "nbformat_minor": 2
}
